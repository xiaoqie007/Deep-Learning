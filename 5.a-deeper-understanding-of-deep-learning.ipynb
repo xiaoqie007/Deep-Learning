{
 "cells": [
  {
   "cell_type": "markdown",
   "metadata": {},
   "source": [
    "### Intro\n",
    "\n",
    "At the end of this lesson, \n",
    "you will understand how **stochastic gradient descent** (随机梯度下降)and **back-propagation**(反向传播）are used to **set the weights** (权重)in a deep learning model. \n",
    "\n",
    "These topics are complex, but many experts view them as the most important ideas in deep learning"
   ]
  },
  {
   "cell_type": "code",
   "execution_count": null,
   "metadata": {},
   "outputs": [],
   "source": []
  }
 ],
 "metadata": {
  "kernelspec": {
   "display_name": "Python 3",
   "language": "python",
   "name": "python3"
  },
  "language_info": {
   "codemirror_mode": {
    "name": "ipython",
    "version": 3
   },
   "file_extension": ".py",
   "mimetype": "text/x-python",
   "name": "python",
   "nbconvert_exporter": "python",
   "pygments_lexer": "ipython3",
   "version": "3.7.1"
  }
 },
 "nbformat": 4,
 "nbformat_minor": 2
}
